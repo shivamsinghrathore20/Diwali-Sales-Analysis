{
 "cells": [
  {
   "cell_type": "code",
   "execution_count": null,
   "id": "0979edbb",
   "metadata": {},
   "outputs": [],
   "source": [
    "import numpy as np \n",
    "import pandas as pd \n",
    "import matplotlib.pyplot as plt # visualizing data\n",
    "%matplotlib inline\n",
    "import seaborn as sns"
   ]
  },
  {
   "cell_type": "code",
   "execution_count": 2,
   "id": "f4a7a8f7",
   "metadata": {},
   "outputs": [
    {
     "data": {
      "text/plain": [
       "(5195, 15)"
      ]
     },
     "execution_count": 2,
     "metadata": {},
     "output_type": "execute_result"
    }
   ],
   "source": [
    "df = pd.read_csv('Diwali Sales Data- RAW.csv')\n",
    "df.shape"
   ]
  },
  {
   "cell_type": "code",
   "execution_count": 3,
   "id": "6840450f",
   "metadata": {},
   "outputs": [],
   "source": [
    "#if getting encoding error then use below line (error: 'utf-8' codec can't decode byte 0xa0 in position 0: invalid start byte)\n",
    "# df = pd.read_csv(filename, encoding= 'unicode_escape')"
   ]
  },
  {
   "cell_type": "code",
   "execution_count": 4,
   "id": "662c471c",
   "metadata": {},
   "outputs": [
    {
     "data": {
      "text/html": [
       "<div>\n",
       "<style scoped>\n",
       "    .dataframe tbody tr th:only-of-type {\n",
       "        vertical-align: middle;\n",
       "    }\n",
       "\n",
       "    .dataframe tbody tr th {\n",
       "        vertical-align: top;\n",
       "    }\n",
       "\n",
       "    .dataframe thead th {\n",
       "        text-align: right;\n",
       "    }\n",
       "</style>\n",
       "<table border=\"1\" class=\"dataframe\">\n",
       "  <thead>\n",
       "    <tr style=\"text-align: right;\">\n",
       "      <th></th>\n",
       "      <th>User_ID</th>\n",
       "      <th>Cust_name</th>\n",
       "      <th>Product_ID</th>\n",
       "      <th>Gender</th>\n",
       "      <th>Age Group</th>\n",
       "      <th>Age</th>\n",
       "      <th>Marital_Status</th>\n",
       "      <th>State</th>\n",
       "      <th>Zone</th>\n",
       "      <th>Occupation</th>\n",
       "      <th>Product_Category</th>\n",
       "      <th>Orders</th>\n",
       "      <th>Amount</th>\n",
       "      <th>status</th>\n",
       "      <th>unnamed1</th>\n",
       "    </tr>\n",
       "  </thead>\n",
       "  <tbody>\n",
       "    <tr>\n",
       "      <th>0</th>\n",
       "      <td>1002903</td>\n",
       "      <td>Sanskriti</td>\n",
       "      <td>P00125942</td>\n",
       "      <td>F</td>\n",
       "      <td>26-35</td>\n",
       "      <td>28</td>\n",
       "      <td>0</td>\n",
       "      <td>Maharashtra</td>\n",
       "      <td>Western</td>\n",
       "      <td>Healthcare</td>\n",
       "      <td>Auto</td>\n",
       "      <td>1</td>\n",
       "      <td>23952.2</td>\n",
       "      <td>NaN</td>\n",
       "      <td>NaN</td>\n",
       "    </tr>\n",
       "    <tr>\n",
       "      <th>1</th>\n",
       "      <td>1000732</td>\n",
       "      <td>Kartik</td>\n",
       "      <td>P00110942</td>\n",
       "      <td>F</td>\n",
       "      <td>26-35</td>\n",
       "      <td>35</td>\n",
       "      <td>1</td>\n",
       "      <td>Andhra Pradesh</td>\n",
       "      <td>Southern</td>\n",
       "      <td>Govt</td>\n",
       "      <td>Auto</td>\n",
       "      <td>3</td>\n",
       "      <td>23934.0</td>\n",
       "      <td>NaN</td>\n",
       "      <td>NaN</td>\n",
       "    </tr>\n",
       "    <tr>\n",
       "      <th>2</th>\n",
       "      <td>1001990</td>\n",
       "      <td>Bindu</td>\n",
       "      <td>P00118542</td>\n",
       "      <td>F</td>\n",
       "      <td>26-35</td>\n",
       "      <td>35</td>\n",
       "      <td>1</td>\n",
       "      <td>Uttar Pradesh</td>\n",
       "      <td>Central</td>\n",
       "      <td>Automobile</td>\n",
       "      <td>Auto</td>\n",
       "      <td>3</td>\n",
       "      <td>23924.0</td>\n",
       "      <td>NaN</td>\n",
       "      <td>NaN</td>\n",
       "    </tr>\n",
       "    <tr>\n",
       "      <th>3</th>\n",
       "      <td>1001425</td>\n",
       "      <td>Sudevi</td>\n",
       "      <td>P00237842</td>\n",
       "      <td>M</td>\n",
       "      <td>0-17</td>\n",
       "      <td>16</td>\n",
       "      <td>0</td>\n",
       "      <td>Karnataka</td>\n",
       "      <td>Southern</td>\n",
       "      <td>Construction</td>\n",
       "      <td>Auto</td>\n",
       "      <td>2</td>\n",
       "      <td>23912.0</td>\n",
       "      <td>NaN</td>\n",
       "      <td>NaN</td>\n",
       "    </tr>\n",
       "    <tr>\n",
       "      <th>4</th>\n",
       "      <td>1000588</td>\n",
       "      <td>Joni</td>\n",
       "      <td>P00057942</td>\n",
       "      <td>M</td>\n",
       "      <td>26-35</td>\n",
       "      <td>28</td>\n",
       "      <td>1</td>\n",
       "      <td>Gujarat</td>\n",
       "      <td>Western</td>\n",
       "      <td>Food Processing</td>\n",
       "      <td>Auto</td>\n",
       "      <td>2</td>\n",
       "      <td>23877.0</td>\n",
       "      <td>NaN</td>\n",
       "      <td>NaN</td>\n",
       "    </tr>\n",
       "  </tbody>\n",
       "</table>\n",
       "</div>"
      ],
      "text/plain": [
       "   User_ID  Cust_name Product_ID Gender Age Group  Age  Marital_Status  \\\n",
       "0  1002903  Sanskriti  P00125942      F     26-35   28               0   \n",
       "1  1000732     Kartik  P00110942      F     26-35   35               1   \n",
       "2  1001990      Bindu  P00118542      F     26-35   35               1   \n",
       "3  1001425     Sudevi  P00237842      M      0-17   16               0   \n",
       "4  1000588       Joni  P00057942      M     26-35   28               1   \n",
       "\n",
       "            State      Zone       Occupation Product_Category  Orders  \\\n",
       "0     Maharashtra   Western       Healthcare             Auto       1   \n",
       "1  Andhra Pradesh  Southern             Govt             Auto       3   \n",
       "2   Uttar Pradesh   Central       Automobile             Auto       3   \n",
       "3       Karnataka  Southern     Construction             Auto       2   \n",
       "4         Gujarat   Western  Food Processing             Auto       2   \n",
       "\n",
       "    Amount  status  unnamed1  \n",
       "0  23952.2     NaN       NaN  \n",
       "1  23934.0     NaN       NaN  \n",
       "2  23924.0     NaN       NaN  \n",
       "3  23912.0     NaN       NaN  \n",
       "4  23877.0     NaN       NaN  "
      ]
     },
     "execution_count": 4,
     "metadata": {},
     "output_type": "execute_result"
    }
   ],
   "source": [
    "df.head()"
   ]
  },
  {
   "cell_type": "code",
   "execution_count": 5,
   "id": "0814c45b",
   "metadata": {},
   "outputs": [
    {
     "name": "stdout",
     "output_type": "stream",
     "text": [
      "<class 'pandas.core.frame.DataFrame'>\n",
      "RangeIndex: 5195 entries, 0 to 5194\n",
      "Data columns (total 15 columns):\n",
      " #   Column            Non-Null Count  Dtype  \n",
      "---  ------            --------------  -----  \n",
      " 0   User_ID           5195 non-null   int64  \n",
      " 1   Cust_name         5195 non-null   object \n",
      " 2   Product_ID        5195 non-null   object \n",
      " 3   Gender            5195 non-null   object \n",
      " 4   Age Group         5195 non-null   object \n",
      " 5   Age               5195 non-null   int64  \n",
      " 6   Marital_Status    5195 non-null   int64  \n",
      " 7   State             5195 non-null   object \n",
      " 8   Zone              5195 non-null   object \n",
      " 9   Occupation        5195 non-null   object \n",
      " 10  Product_Category  5195 non-null   object \n",
      " 11  Orders            5195 non-null   int64  \n",
      " 12  Amount            5190 non-null   float64\n",
      " 13  status            0 non-null      float64\n",
      " 14  unnamed1          0 non-null      float64\n",
      "dtypes: float64(3), int64(4), object(8)\n",
      "memory usage: 608.9+ KB\n"
     ]
    }
   ],
   "source": [
    "df.info()"
   ]
  },
  {
   "cell_type": "code",
   "execution_count": 6,
   "id": "0fb77ade",
   "metadata": {},
   "outputs": [],
   "source": [
    "#drop unrelated/blank columns\n",
    "df.drop(['status', 'unnamed1'], axis=1, inplace=True)"
   ]
  },
  {
   "cell_type": "code",
   "execution_count": 7,
   "id": "5cee58eb",
   "metadata": {},
   "outputs": [
    {
     "data": {
      "text/plain": [
       "User_ID             0\n",
       "Cust_name           0\n",
       "Product_ID          0\n",
       "Gender              0\n",
       "Age Group           0\n",
       "Age                 0\n",
       "Marital_Status      0\n",
       "State               0\n",
       "Zone                0\n",
       "Occupation          0\n",
       "Product_Category    0\n",
       "Orders              0\n",
       "Amount              5\n",
       "dtype: int64"
      ]
     },
     "execution_count": 7,
     "metadata": {},
     "output_type": "execute_result"
    }
   ],
   "source": [
    "#check for null values\n",
    "pd.isnull(df).sum()"
   ]
  },
  {
   "cell_type": "code",
   "execution_count": 8,
   "id": "720f04eb",
   "metadata": {},
   "outputs": [
    {
     "data": {
      "text/plain": [
       "(5195, 13)"
      ]
     },
     "execution_count": 8,
     "metadata": {},
     "output_type": "execute_result"
    }
   ],
   "source": [
    "df.shape"
   ]
  },
  {
   "cell_type": "code",
   "execution_count": 9,
   "id": "65de74e3",
   "metadata": {},
   "outputs": [],
   "source": [
    "# drop null values\n",
    "df.dropna(inplace=True)"
   ]
  },
  {
   "cell_type": "code",
   "execution_count": 10,
   "id": "ef1ef439",
   "metadata": {},
   "outputs": [
    {
     "data": {
      "text/plain": [
       "(5190, 13)"
      ]
     },
     "execution_count": 10,
     "metadata": {},
     "output_type": "execute_result"
    }
   ],
   "source": [
    "df.shape"
   ]
  },
  {
   "cell_type": "code",
   "execution_count": 11,
   "id": "97a22046",
   "metadata": {},
   "outputs": [
    {
     "data": {
      "text/html": [
       "<div>\n",
       "<style scoped>\n",
       "    .dataframe tbody tr th:only-of-type {\n",
       "        vertical-align: middle;\n",
       "    }\n",
       "\n",
       "    .dataframe tbody tr th {\n",
       "        vertical-align: top;\n",
       "    }\n",
       "\n",
       "    .dataframe thead th {\n",
       "        text-align: right;\n",
       "    }\n",
       "</style>\n",
       "<table border=\"1\" class=\"dataframe\">\n",
       "  <thead>\n",
       "    <tr style=\"text-align: right;\">\n",
       "      <th></th>\n",
       "      <th>Name</th>\n",
       "      <th>Age</th>\n",
       "    </tr>\n",
       "  </thead>\n",
       "  <tbody>\n",
       "    <tr>\n",
       "      <th>0</th>\n",
       "      <td>madhav</td>\n",
       "      <td>11.0</td>\n",
       "    </tr>\n",
       "    <tr>\n",
       "      <th>1</th>\n",
       "      <td>Gopi</td>\n",
       "      <td>15.0</td>\n",
       "    </tr>\n",
       "    <tr>\n",
       "      <th>2</th>\n",
       "      <td>Keshav</td>\n",
       "      <td>NaN</td>\n",
       "    </tr>\n",
       "    <tr>\n",
       "      <th>3</th>\n",
       "      <td>Lalita</td>\n",
       "      <td>16.0</td>\n",
       "    </tr>\n",
       "  </tbody>\n",
       "</table>\n",
       "</div>"
      ],
      "text/plain": [
       "     Name   Age\n",
       "0  madhav  11.0\n",
       "1    Gopi  15.0\n",
       "2  Keshav   NaN\n",
       "3  Lalita  16.0"
      ]
     },
     "execution_count": 11,
     "metadata": {},
     "output_type": "execute_result"
    }
   ],
   "source": [
    "# initialize list of lists\n",
    "data_test = [['madhav', 11], ['Gopi', 15], ['Keshav', ], ['Lalita', 16]]\n",
    "  \n",
    "# Create the pandas DataFrame using list\n",
    "df_test = pd.DataFrame(data_test, columns=['Name', 'Age'])\n",
    "\n",
    "df_test"
   ]
  },
  {
   "cell_type": "code",
   "execution_count": 12,
   "id": "6492c545",
   "metadata": {},
   "outputs": [
    {
     "data": {
      "text/html": [
       "<div>\n",
       "<style scoped>\n",
       "    .dataframe tbody tr th:only-of-type {\n",
       "        vertical-align: middle;\n",
       "    }\n",
       "\n",
       "    .dataframe tbody tr th {\n",
       "        vertical-align: top;\n",
       "    }\n",
       "\n",
       "    .dataframe thead th {\n",
       "        text-align: right;\n",
       "    }\n",
       "</style>\n",
       "<table border=\"1\" class=\"dataframe\">\n",
       "  <thead>\n",
       "    <tr style=\"text-align: right;\">\n",
       "      <th></th>\n",
       "      <th>Name</th>\n",
       "      <th>Age</th>\n",
       "    </tr>\n",
       "  </thead>\n",
       "  <tbody>\n",
       "    <tr>\n",
       "      <th>0</th>\n",
       "      <td>madhav</td>\n",
       "      <td>11.0</td>\n",
       "    </tr>\n",
       "    <tr>\n",
       "      <th>1</th>\n",
       "      <td>Gopi</td>\n",
       "      <td>15.0</td>\n",
       "    </tr>\n",
       "    <tr>\n",
       "      <th>3</th>\n",
       "      <td>Lalita</td>\n",
       "      <td>16.0</td>\n",
       "    </tr>\n",
       "  </tbody>\n",
       "</table>\n",
       "</div>"
      ],
      "text/plain": [
       "     Name   Age\n",
       "0  madhav  11.0\n",
       "1    Gopi  15.0\n",
       "3  Lalita  16.0"
      ]
     },
     "execution_count": 12,
     "metadata": {},
     "output_type": "execute_result"
    }
   ],
   "source": [
    "df_test.dropna()"
   ]
  },
  {
   "cell_type": "code",
   "execution_count": 13,
   "id": "6722250a",
   "metadata": {},
   "outputs": [
    {
     "data": {
      "text/html": [
       "<div>\n",
       "<style scoped>\n",
       "    .dataframe tbody tr th:only-of-type {\n",
       "        vertical-align: middle;\n",
       "    }\n",
       "\n",
       "    .dataframe tbody tr th {\n",
       "        vertical-align: top;\n",
       "    }\n",
       "\n",
       "    .dataframe thead th {\n",
       "        text-align: right;\n",
       "    }\n",
       "</style>\n",
       "<table border=\"1\" class=\"dataframe\">\n",
       "  <thead>\n",
       "    <tr style=\"text-align: right;\">\n",
       "      <th></th>\n",
       "      <th>Name</th>\n",
       "      <th>Age</th>\n",
       "    </tr>\n",
       "  </thead>\n",
       "  <tbody>\n",
       "    <tr>\n",
       "      <th>0</th>\n",
       "      <td>madhav</td>\n",
       "      <td>11.0</td>\n",
       "    </tr>\n",
       "    <tr>\n",
       "      <th>1</th>\n",
       "      <td>Gopi</td>\n",
       "      <td>15.0</td>\n",
       "    </tr>\n",
       "    <tr>\n",
       "      <th>2</th>\n",
       "      <td>Keshav</td>\n",
       "      <td>NaN</td>\n",
       "    </tr>\n",
       "    <tr>\n",
       "      <th>3</th>\n",
       "      <td>Lalita</td>\n",
       "      <td>16.0</td>\n",
       "    </tr>\n",
       "  </tbody>\n",
       "</table>\n",
       "</div>"
      ],
      "text/plain": [
       "     Name   Age\n",
       "0  madhav  11.0\n",
       "1    Gopi  15.0\n",
       "2  Keshav   NaN\n",
       "3  Lalita  16.0"
      ]
     },
     "execution_count": 13,
     "metadata": {},
     "output_type": "execute_result"
    }
   ],
   "source": [
    "df_test"
   ]
  },
  {
   "cell_type": "markdown",
   "id": "a669ebd0",
   "metadata": {},
   "source": [
    "### both are same thing\n",
    "df_test.dropna(inplace=True)\n",
    "\n",
    "df_test = df_test.dropna()"
   ]
  },
  {
   "cell_type": "code",
   "execution_count": 14,
   "id": "14e4ff48",
   "metadata": {},
   "outputs": [],
   "source": [
    "# change data type\n",
    "df['Amount'] = df['Amount'].astype('int')"
   ]
  },
  {
   "cell_type": "code",
   "execution_count": 15,
   "id": "aa6752dc",
   "metadata": {},
   "outputs": [
    {
     "data": {
      "text/plain": [
       "dtype('int32')"
      ]
     },
     "execution_count": 15,
     "metadata": {},
     "output_type": "execute_result"
    }
   ],
   "source": [
    "df['Amount'].dtypes"
   ]
  },
  {
   "cell_type": "code",
   "execution_count": 16,
   "id": "5f723a99",
   "metadata": {},
   "outputs": [
    {
     "data": {
      "text/plain": [
       "Index(['User_ID', 'Cust_name', 'Product_ID', 'Gender', 'Age Group', 'Age',\n",
       "       'Marital_Status', 'State', 'Zone', 'Occupation', 'Product_Category',\n",
       "       'Orders', 'Amount'],\n",
       "      dtype='object')"
      ]
     },
     "execution_count": 16,
     "metadata": {},
     "output_type": "execute_result"
    }
   ],
   "source": [
    "df.columns"
   ]
  },
  {
   "cell_type": "code",
   "execution_count": 17,
   "id": "a85bb3c3",
   "metadata": {},
   "outputs": [
    {
     "data": {
      "text/html": [
       "<div>\n",
       "<style scoped>\n",
       "    .dataframe tbody tr th:only-of-type {\n",
       "        vertical-align: middle;\n",
       "    }\n",
       "\n",
       "    .dataframe tbody tr th {\n",
       "        vertical-align: top;\n",
       "    }\n",
       "\n",
       "    .dataframe thead th {\n",
       "        text-align: right;\n",
       "    }\n",
       "</style>\n",
       "<table border=\"1\" class=\"dataframe\">\n",
       "  <thead>\n",
       "    <tr style=\"text-align: right;\">\n",
       "      <th></th>\n",
       "      <th>User_ID</th>\n",
       "      <th>Cust_name</th>\n",
       "      <th>Product_ID</th>\n",
       "      <th>Gender</th>\n",
       "      <th>Age Group</th>\n",
       "      <th>Age</th>\n",
       "      <th>Shaadi</th>\n",
       "      <th>State</th>\n",
       "      <th>Zone</th>\n",
       "      <th>Occupation</th>\n",
       "      <th>Product_Category</th>\n",
       "      <th>Orders</th>\n",
       "      <th>Amount</th>\n",
       "    </tr>\n",
       "  </thead>\n",
       "  <tbody>\n",
       "    <tr>\n",
       "      <th>0</th>\n",
       "      <td>1002903</td>\n",
       "      <td>Sanskriti</td>\n",
       "      <td>P00125942</td>\n",
       "      <td>F</td>\n",
       "      <td>26-35</td>\n",
       "      <td>28</td>\n",
       "      <td>0</td>\n",
       "      <td>Maharashtra</td>\n",
       "      <td>Western</td>\n",
       "      <td>Healthcare</td>\n",
       "      <td>Auto</td>\n",
       "      <td>1</td>\n",
       "      <td>23952</td>\n",
       "    </tr>\n",
       "    <tr>\n",
       "      <th>1</th>\n",
       "      <td>1000732</td>\n",
       "      <td>Kartik</td>\n",
       "      <td>P00110942</td>\n",
       "      <td>F</td>\n",
       "      <td>26-35</td>\n",
       "      <td>35</td>\n",
       "      <td>1</td>\n",
       "      <td>Andhra Pradesh</td>\n",
       "      <td>Southern</td>\n",
       "      <td>Govt</td>\n",
       "      <td>Auto</td>\n",
       "      <td>3</td>\n",
       "      <td>23934</td>\n",
       "    </tr>\n",
       "    <tr>\n",
       "      <th>2</th>\n",
       "      <td>1001990</td>\n",
       "      <td>Bindu</td>\n",
       "      <td>P00118542</td>\n",
       "      <td>F</td>\n",
       "      <td>26-35</td>\n",
       "      <td>35</td>\n",
       "      <td>1</td>\n",
       "      <td>Uttar Pradesh</td>\n",
       "      <td>Central</td>\n",
       "      <td>Automobile</td>\n",
       "      <td>Auto</td>\n",
       "      <td>3</td>\n",
       "      <td>23924</td>\n",
       "    </tr>\n",
       "    <tr>\n",
       "      <th>3</th>\n",
       "      <td>1001425</td>\n",
       "      <td>Sudevi</td>\n",
       "      <td>P00237842</td>\n",
       "      <td>M</td>\n",
       "      <td>0-17</td>\n",
       "      <td>16</td>\n",
       "      <td>0</td>\n",
       "      <td>Karnataka</td>\n",
       "      <td>Southern</td>\n",
       "      <td>Construction</td>\n",
       "      <td>Auto</td>\n",
       "      <td>2</td>\n",
       "      <td>23912</td>\n",
       "    </tr>\n",
       "    <tr>\n",
       "      <th>4</th>\n",
       "      <td>1000588</td>\n",
       "      <td>Joni</td>\n",
       "      <td>P00057942</td>\n",
       "      <td>M</td>\n",
       "      <td>26-35</td>\n",
       "      <td>28</td>\n",
       "      <td>1</td>\n",
       "      <td>Gujarat</td>\n",
       "      <td>Western</td>\n",
       "      <td>Food Processing</td>\n",
       "      <td>Auto</td>\n",
       "      <td>2</td>\n",
       "      <td>23877</td>\n",
       "    </tr>\n",
       "    <tr>\n",
       "      <th>...</th>\n",
       "      <td>...</td>\n",
       "      <td>...</td>\n",
       "      <td>...</td>\n",
       "      <td>...</td>\n",
       "      <td>...</td>\n",
       "      <td>...</td>\n",
       "      <td>...</td>\n",
       "      <td>...</td>\n",
       "      <td>...</td>\n",
       "      <td>...</td>\n",
       "      <td>...</td>\n",
       "      <td>...</td>\n",
       "      <td>...</td>\n",
       "    </tr>\n",
       "    <tr>\n",
       "      <th>5188</th>\n",
       "      <td>1000611</td>\n",
       "      <td>Yogesh</td>\n",
       "      <td>P00233942</td>\n",
       "      <td>F</td>\n",
       "      <td>36-45</td>\n",
       "      <td>37</td>\n",
       "      <td>0</td>\n",
       "      <td>Rajasthan</td>\n",
       "      <td>Northern</td>\n",
       "      <td>IT Sector</td>\n",
       "      <td>Clothing &amp; Apparel</td>\n",
       "      <td>1</td>\n",
       "      <td>8633</td>\n",
       "    </tr>\n",
       "    <tr>\n",
       "      <th>5190</th>\n",
       "      <td>1003661</td>\n",
       "      <td>Nandita</td>\n",
       "      <td>P00122442</td>\n",
       "      <td>F</td>\n",
       "      <td>36-45</td>\n",
       "      <td>38</td>\n",
       "      <td>1</td>\n",
       "      <td>Delhi</td>\n",
       "      <td>Central</td>\n",
       "      <td>Banking</td>\n",
       "      <td>Footwear &amp; Shoes</td>\n",
       "      <td>3</td>\n",
       "      <td>8632</td>\n",
       "    </tr>\n",
       "    <tr>\n",
       "      <th>5191</th>\n",
       "      <td>1004447</td>\n",
       "      <td>Ajay</td>\n",
       "      <td>P00281942</td>\n",
       "      <td>F</td>\n",
       "      <td>46-50</td>\n",
       "      <td>47</td>\n",
       "      <td>0</td>\n",
       "      <td>Uttarakhand</td>\n",
       "      <td>Central</td>\n",
       "      <td>Aviation</td>\n",
       "      <td>Clothing &amp; Apparel</td>\n",
       "      <td>1</td>\n",
       "      <td>8631</td>\n",
       "    </tr>\n",
       "    <tr>\n",
       "      <th>5192</th>\n",
       "      <td>1005998</td>\n",
       "      <td>Nitant</td>\n",
       "      <td>P00318742</td>\n",
       "      <td>F</td>\n",
       "      <td>18-25</td>\n",
       "      <td>21</td>\n",
       "      <td>0</td>\n",
       "      <td>Himachal Pradesh</td>\n",
       "      <td>Northern</td>\n",
       "      <td>IT Sector</td>\n",
       "      <td>Clothing &amp; Apparel</td>\n",
       "      <td>1</td>\n",
       "      <td>8630</td>\n",
       "    </tr>\n",
       "    <tr>\n",
       "      <th>5193</th>\n",
       "      <td>1002428</td>\n",
       "      <td>Lori</td>\n",
       "      <td>P00118542</td>\n",
       "      <td>F</td>\n",
       "      <td>46-50</td>\n",
       "      <td>50</td>\n",
       "      <td>0</td>\n",
       "      <td>Jharkhand</td>\n",
       "      <td>Eastern</td>\n",
       "      <td>Govt</td>\n",
       "      <td>Clothing &amp; Apparel</td>\n",
       "      <td>4</td>\n",
       "      <td>8630</td>\n",
       "    </tr>\n",
       "  </tbody>\n",
       "</table>\n",
       "<p>5190 rows × 13 columns</p>\n",
       "</div>"
      ],
      "text/plain": [
       "      User_ID  Cust_name Product_ID Gender Age Group  Age  Shaadi  \\\n",
       "0     1002903  Sanskriti  P00125942      F     26-35   28       0   \n",
       "1     1000732     Kartik  P00110942      F     26-35   35       1   \n",
       "2     1001990      Bindu  P00118542      F     26-35   35       1   \n",
       "3     1001425     Sudevi  P00237842      M      0-17   16       0   \n",
       "4     1000588       Joni  P00057942      M     26-35   28       1   \n",
       "...       ...        ...        ...    ...       ...  ...     ...   \n",
       "5188  1000611     Yogesh  P00233942      F     36-45   37       0   \n",
       "5190  1003661    Nandita  P00122442      F     36-45   38       1   \n",
       "5191  1004447       Ajay  P00281942      F     46-50   47       0   \n",
       "5192  1005998     Nitant  P00318742      F     18-25   21       0   \n",
       "5193  1002428       Lori  P00118542      F     46-50   50       0   \n",
       "\n",
       "                 State      Zone       Occupation    Product_Category  Orders  \\\n",
       "0          Maharashtra   Western       Healthcare                Auto       1   \n",
       "1       Andhra Pradesh  Southern             Govt                Auto       3   \n",
       "2        Uttar Pradesh   Central       Automobile                Auto       3   \n",
       "3            Karnataka  Southern     Construction                Auto       2   \n",
       "4              Gujarat   Western  Food Processing                Auto       2   \n",
       "...                ...       ...              ...                 ...     ...   \n",
       "5188         Rajasthan  Northern        IT Sector  Clothing & Apparel       1   \n",
       "5190             Delhi   Central          Banking    Footwear & Shoes       3   \n",
       "5191       Uttarakhand   Central         Aviation  Clothing & Apparel       1   \n",
       "5192  Himachal Pradesh  Northern        IT Sector  Clothing & Apparel       1   \n",
       "5193         Jharkhand   Eastern             Govt  Clothing & Apparel       4   \n",
       "\n",
       "      Amount  \n",
       "0      23952  \n",
       "1      23934  \n",
       "2      23924  \n",
       "3      23912  \n",
       "4      23877  \n",
       "...      ...  \n",
       "5188    8633  \n",
       "5190    8632  \n",
       "5191    8631  \n",
       "5192    8630  \n",
       "5193    8630  \n",
       "\n",
       "[5190 rows x 13 columns]"
      ]
     },
     "execution_count": 17,
     "metadata": {},
     "output_type": "execute_result"
    }
   ],
   "source": [
    "#rename column\n",
    "df.rename(columns= {'Marital_Status':'Shaadi'})"
   ]
  },
  {
   "cell_type": "code",
   "execution_count": 18,
   "id": "a2484863",
   "metadata": {},
   "outputs": [
    {
     "data": {
      "text/html": [
       "<div>\n",
       "<style scoped>\n",
       "    .dataframe tbody tr th:only-of-type {\n",
       "        vertical-align: middle;\n",
       "    }\n",
       "\n",
       "    .dataframe tbody tr th {\n",
       "        vertical-align: top;\n",
       "    }\n",
       "\n",
       "    .dataframe thead th {\n",
       "        text-align: right;\n",
       "    }\n",
       "</style>\n",
       "<table border=\"1\" class=\"dataframe\">\n",
       "  <thead>\n",
       "    <tr style=\"text-align: right;\">\n",
       "      <th></th>\n",
       "      <th>User_ID</th>\n",
       "      <th>Age</th>\n",
       "      <th>Marital_Status</th>\n",
       "      <th>Orders</th>\n",
       "      <th>Amount</th>\n",
       "    </tr>\n",
       "  </thead>\n",
       "  <tbody>\n",
       "    <tr>\n",
       "      <th>count</th>\n",
       "      <td>5.190000e+03</td>\n",
       "      <td>5190.000000</td>\n",
       "      <td>5190.000000</td>\n",
       "      <td>5190.000000</td>\n",
       "      <td>5190.000000</td>\n",
       "    </tr>\n",
       "    <tr>\n",
       "      <th>mean</th>\n",
       "      <td>1.002999e+06</td>\n",
       "      <td>35.724277</td>\n",
       "      <td>0.414644</td>\n",
       "      <td>2.473410</td>\n",
       "      <td>14065.260116</td>\n",
       "    </tr>\n",
       "    <tr>\n",
       "      <th>std</th>\n",
       "      <td>1.704431e+03</td>\n",
       "      <td>12.768756</td>\n",
       "      <td>0.492708</td>\n",
       "      <td>1.111775</td>\n",
       "      <td>3797.154500</td>\n",
       "    </tr>\n",
       "    <tr>\n",
       "      <th>min</th>\n",
       "      <td>1.000003e+06</td>\n",
       "      <td>12.000000</td>\n",
       "      <td>0.000000</td>\n",
       "      <td>1.000000</td>\n",
       "      <td>8630.000000</td>\n",
       "    </tr>\n",
       "    <tr>\n",
       "      <th>25%</th>\n",
       "      <td>1.001501e+06</td>\n",
       "      <td>27.000000</td>\n",
       "      <td>0.000000</td>\n",
       "      <td>1.000000</td>\n",
       "      <td>10792.250000</td>\n",
       "    </tr>\n",
       "    <tr>\n",
       "      <th>50%</th>\n",
       "      <td>1.003064e+06</td>\n",
       "      <td>33.000000</td>\n",
       "      <td>0.000000</td>\n",
       "      <td>2.000000</td>\n",
       "      <td>13158.000000</td>\n",
       "    </tr>\n",
       "    <tr>\n",
       "      <th>75%</th>\n",
       "      <td>1.004412e+06</td>\n",
       "      <td>44.000000</td>\n",
       "      <td>1.000000</td>\n",
       "      <td>3.000000</td>\n",
       "      <td>16516.750000</td>\n",
       "    </tr>\n",
       "    <tr>\n",
       "      <th>max</th>\n",
       "      <td>1.006040e+06</td>\n",
       "      <td>92.000000</td>\n",
       "      <td>1.000000</td>\n",
       "      <td>4.000000</td>\n",
       "      <td>23952.000000</td>\n",
       "    </tr>\n",
       "  </tbody>\n",
       "</table>\n",
       "</div>"
      ],
      "text/plain": [
       "            User_ID          Age  Marital_Status       Orders        Amount\n",
       "count  5.190000e+03  5190.000000     5190.000000  5190.000000   5190.000000\n",
       "mean   1.002999e+06    35.724277        0.414644     2.473410  14065.260116\n",
       "std    1.704431e+03    12.768756        0.492708     1.111775   3797.154500\n",
       "min    1.000003e+06    12.000000        0.000000     1.000000   8630.000000\n",
       "25%    1.001501e+06    27.000000        0.000000     1.000000  10792.250000\n",
       "50%    1.003064e+06    33.000000        0.000000     2.000000  13158.000000\n",
       "75%    1.004412e+06    44.000000        1.000000     3.000000  16516.750000\n",
       "max    1.006040e+06    92.000000        1.000000     4.000000  23952.000000"
      ]
     },
     "execution_count": 18,
     "metadata": {},
     "output_type": "execute_result"
    }
   ],
   "source": [
    "# describe() method returns description of the data in the DataFrame (i.e. count, mean, std, etc)\n",
    "df.describe()"
   ]
  },
  {
   "cell_type": "code",
   "execution_count": 19,
   "id": "2c380030",
   "metadata": {},
   "outputs": [
    {
     "data": {
      "text/html": [
       "<div>\n",
       "<style scoped>\n",
       "    .dataframe tbody tr th:only-of-type {\n",
       "        vertical-align: middle;\n",
       "    }\n",
       "\n",
       "    .dataframe tbody tr th {\n",
       "        vertical-align: top;\n",
       "    }\n",
       "\n",
       "    .dataframe thead th {\n",
       "        text-align: right;\n",
       "    }\n",
       "</style>\n",
       "<table border=\"1\" class=\"dataframe\">\n",
       "  <thead>\n",
       "    <tr style=\"text-align: right;\">\n",
       "      <th></th>\n",
       "      <th>Age</th>\n",
       "      <th>Orders</th>\n",
       "      <th>Amount</th>\n",
       "    </tr>\n",
       "  </thead>\n",
       "  <tbody>\n",
       "    <tr>\n",
       "      <th>count</th>\n",
       "      <td>5190.000000</td>\n",
       "      <td>5190.000000</td>\n",
       "      <td>5190.000000</td>\n",
       "    </tr>\n",
       "    <tr>\n",
       "      <th>mean</th>\n",
       "      <td>35.724277</td>\n",
       "      <td>2.473410</td>\n",
       "      <td>14065.260116</td>\n",
       "    </tr>\n",
       "    <tr>\n",
       "      <th>std</th>\n",
       "      <td>12.768756</td>\n",
       "      <td>1.111775</td>\n",
       "      <td>3797.154500</td>\n",
       "    </tr>\n",
       "    <tr>\n",
       "      <th>min</th>\n",
       "      <td>12.000000</td>\n",
       "      <td>1.000000</td>\n",
       "      <td>8630.000000</td>\n",
       "    </tr>\n",
       "    <tr>\n",
       "      <th>25%</th>\n",
       "      <td>27.000000</td>\n",
       "      <td>1.000000</td>\n",
       "      <td>10792.250000</td>\n",
       "    </tr>\n",
       "    <tr>\n",
       "      <th>50%</th>\n",
       "      <td>33.000000</td>\n",
       "      <td>2.000000</td>\n",
       "      <td>13158.000000</td>\n",
       "    </tr>\n",
       "    <tr>\n",
       "      <th>75%</th>\n",
       "      <td>44.000000</td>\n",
       "      <td>3.000000</td>\n",
       "      <td>16516.750000</td>\n",
       "    </tr>\n",
       "    <tr>\n",
       "      <th>max</th>\n",
       "      <td>92.000000</td>\n",
       "      <td>4.000000</td>\n",
       "      <td>23952.000000</td>\n",
       "    </tr>\n",
       "  </tbody>\n",
       "</table>\n",
       "</div>"
      ],
      "text/plain": [
       "               Age       Orders        Amount\n",
       "count  5190.000000  5190.000000   5190.000000\n",
       "mean     35.724277     2.473410  14065.260116\n",
       "std      12.768756     1.111775   3797.154500\n",
       "min      12.000000     1.000000   8630.000000\n",
       "25%      27.000000     1.000000  10792.250000\n",
       "50%      33.000000     2.000000  13158.000000\n",
       "75%      44.000000     3.000000  16516.750000\n",
       "max      92.000000     4.000000  23952.000000"
      ]
     },
     "execution_count": 19,
     "metadata": {},
     "output_type": "execute_result"
    }
   ],
   "source": [
    "# use describe() for specific columns\n",
    "df[['Age', 'Orders', 'Amount']].describe()"
   ]
  },
  {
   "cell_type": "markdown",
   "id": "cc649558",
   "metadata": {},
   "source": [
    "# Exploratory Data Analysis"
   ]
  },
  {
   "cell_type": "markdown",
   "id": "504b419c",
   "metadata": {},
   "source": [
    "### Gender"
   ]
  },
  {
   "cell_type": "code",
   "execution_count": 20,
   "id": "84c7918d",
   "metadata": {
    "scrolled": true
   },
   "outputs": [
    {
     "data": {
      "image/png": "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\n",
      "text/plain": [
       "<Figure size 432x288 with 1 Axes>"
      ]
     },
     "metadata": {
      "needs_background": "light"
     },
     "output_type": "display_data"
    }
   ],
   "source": [
    "ax = sns.countplot(x = 'Gender',data = df)\n",
    "\n",
    "for bars in ax.containers:\n",
    "    ax.bar_label(bars)"
   ]
  },
  {
   "cell_type": "code",
   "execution_count": 21,
   "id": "c5fd4566",
   "metadata": {},
   "outputs": [
    {
     "data": {
      "text/plain": [
       "<AxesSubplot:xlabel='Gender', ylabel='Amount'>"
      ]
     },
     "execution_count": 21,
     "metadata": {},
     "output_type": "execute_result"
    },
    {
     "data": {
      "image/png": "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\n",
      "text/plain": [
       "<Figure size 432x288 with 1 Axes>"
      ]
     },
     "metadata": {
      "needs_background": "light"
     },
     "output_type": "display_data"
    }
   ],
   "source": [
    "sales_gen = df.groupby(['Gender'], as_index=False)['Amount'].sum().sort_values(by='Amount', ascending=False)\n",
    "\n",
    "sns.barplot(x = 'Gender',y= 'Amount' ,data = sales_gen)"
   ]
  },
  {
   "cell_type": "markdown",
   "id": "1e108cec",
   "metadata": {},
   "source": [
    "*From above graphs we can see that most of the buyers are females and even the purchasing power of females are greater than men*"
   ]
  },
  {
   "cell_type": "markdown",
   "id": "dcc927f9",
   "metadata": {},
   "source": [
    "### Age"
   ]
  },
  {
   "cell_type": "code",
   "execution_count": 22,
   "id": "88563dec",
   "metadata": {},
   "outputs": [
    {
     "data": {
      "image/png": "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\n",
      "text/plain": [
       "<Figure size 432x288 with 1 Axes>"
      ]
     },
     "metadata": {
      "needs_background": "light"
     },
     "output_type": "display_data"
    }
   ],
   "source": [
    "ax = sns.countplot(data = df, x = 'Age Group', hue = 'Gender')\n",
    "\n",
    "for bars in ax.containers:\n",
    "    ax.bar_label(bars)"
   ]
  },
  {
   "cell_type": "code",
   "execution_count": 23,
   "id": "bfbe3937",
   "metadata": {},
   "outputs": [
    {
     "data": {
      "text/plain": [
       "<AxesSubplot:xlabel='Age Group', ylabel='Amount'>"
      ]
     },
     "execution_count": 23,
     "metadata": {},
     "output_type": "execute_result"
    },
    {
     "data": {
      "image/png": "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\n",
      "text/plain": [
       "<Figure size 432x288 with 1 Axes>"
      ]
     },
     "metadata": {
      "needs_background": "light"
     },
     "output_type": "display_data"
    }
   ],
   "source": [
    "# Total Amount vs Age Group\n",
    "sales_age = df.groupby(['Age Group'], as_index=False)['Amount'].sum().sort_values(by='Amount', ascending=False)\n",
    "\n",
    "sns.barplot(x = 'Age Group',y= 'Amount' ,data = sales_age)"
   ]
  },
  {
   "cell_type": "markdown",
   "id": "abaa6c07",
   "metadata": {},
   "source": [
    "*From above graphs we can see that most of the buyers are of age group between 26-35 yrs female*"
   ]
  },
  {
   "cell_type": "markdown",
   "id": "83a49098",
   "metadata": {},
   "source": [
    "### State"
   ]
  },
  {
   "cell_type": "code",
   "execution_count": 24,
   "id": "dfac4f2c",
   "metadata": {},
   "outputs": [
    {
     "data": {
      "text/plain": [
       "<AxesSubplot:xlabel='State', ylabel='Orders'>"
      ]
     },
     "execution_count": 24,
     "metadata": {},
     "output_type": "execute_result"
    },
    {
     "data": {
      "image/png": "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\n",
      "text/plain": [
       "<Figure size 1080x360 with 1 Axes>"
      ]
     },
     "metadata": {},
     "output_type": "display_data"
    }
   ],
   "source": [
    "# total number of orders from top 10 states\n",
    "\n",
    "sales_state = df.groupby(['State'], as_index=False)['Orders'].sum().sort_values(by='Orders', ascending=False).head(10)\n",
    "\n",
    "sns.set(rc={'figure.figsize':(15,5)})\n",
    "sns.barplot(data = sales_state, x = 'State',y= 'Orders')"
   ]
  },
  {
   "cell_type": "code",
   "execution_count": 25,
   "id": "a66617bc",
   "metadata": {},
   "outputs": [
    {
     "data": {
      "text/plain": [
       "<AxesSubplot:xlabel='State', ylabel='Amount'>"
      ]
     },
     "execution_count": 25,
     "metadata": {},
     "output_type": "execute_result"
    },
    {
     "data": {
      "image/png": "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\n",
      "text/plain": [
       "<Figure size 1080x360 with 1 Axes>"
      ]
     },
     "metadata": {},
     "output_type": "display_data"
    }
   ],
   "source": [
    "# total amount/sales from top 10 states\n",
    "\n",
    "sales_state = df.groupby(['State'], as_index=False)['Amount'].sum().sort_values(by='Amount', ascending=False).head(10)\n",
    "\n",
    "sns.set(rc={'figure.figsize':(15,5)})\n",
    "sns.barplot(data = sales_state, x = 'State',y= 'Amount')"
   ]
  },
  {
   "cell_type": "markdown",
   "id": "39d46e9e",
   "metadata": {},
   "source": [
    "*From above graphs we can see that unexpectedly most of the orders are from Uttar Pradesh, Maharashtra and Karnataka respectively but total sales/amount is from UP, Karnataka and then Maharashtra*\n"
   ]
  },
  {
   "cell_type": "markdown",
   "id": "89f865a5",
   "metadata": {},
   "source": [
    "### Marital Status"
   ]
  },
  {
   "cell_type": "code",
   "execution_count": 31,
   "id": "77e6635e",
   "metadata": {},
   "outputs": [
    {
     "data": {
      "image/png": "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\n",
      "text/plain": [
       "<Figure size 432x360 with 1 Axes>"
      ]
     },
     "metadata": {},
     "output_type": "display_data"
    }
   ],
   "source": [
    "ax = sns.countplot(data = df, x = 'Marital_Status')\n",
    "\n",
    "for bars in ax.containers:\n",
    "    ax.bar_label(bars)"
   ]
  },
  {
   "cell_type": "code",
   "execution_count": 71,
   "id": "2d8c7b27",
   "metadata": {},
   "outputs": [
    {
     "data": {
      "text/plain": [
       "<AxesSubplot:xlabel='Marital_Status', ylabel='Amount'>"
      ]
     },
     "execution_count": 71,
     "metadata": {},
     "output_type": "execute_result"
    },
    {
     "data": {
      "image/png": "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\n",
      "text/plain": [
       "<Figure size 432x360 with 1 Axes>"
      ]
     },
     "metadata": {},
     "output_type": "display_data"
    }
   ],
   "source": [
    "sales_state = df.groupby(['Marital_Status', 'Gender'], as_index=False)['Amount'].sum().sort_values(by='Amount', ascending=False)\n",
    "\n",
    "sns.set(rc={'figure.figsize':(6,5)})\n",
    "sns.barplot(data = sales_state, x = 'Marital_Status',y= 'Amount', hue='Gender')"
   ]
  },
  {
   "cell_type": "markdown",
   "id": "37afbb83",
   "metadata": {},
   "source": [
    "*From above graphs we can see that most of the buyers are married (women) and they have high purchasing power*"
   ]
  },
  {
   "cell_type": "markdown",
   "id": "230cfe66",
   "metadata": {},
   "source": [
    "### Occupation"
   ]
  },
  {
   "cell_type": "code",
   "execution_count": 34,
   "id": "4deb41f4",
   "metadata": {},
   "outputs": [
    {
     "data": {
      "image/png": "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\n",
      "text/plain": [
       "<Figure size 1440x360 with 1 Axes>"
      ]
     },
     "metadata": {},
     "output_type": "display_data"
    }
   ],
   "source": [
    "sns.set(rc={'figure.figsize':(20,5)})\n",
    "ax = sns.countplot(data = df, x = 'Occupation')\n",
    "\n",
    "for bars in ax.containers:\n",
    "    ax.bar_label(bars)"
   ]
  },
  {
   "cell_type": "code",
   "execution_count": 36,
   "id": "4eb620f6",
   "metadata": {},
   "outputs": [
    {
     "data": {
      "text/plain": [
       "<AxesSubplot:xlabel='Occupation', ylabel='Amount'>"
      ]
     },
     "execution_count": 36,
     "metadata": {},
     "output_type": "execute_result"
    },
    {
     "data": {
      "image/png": "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\n",
      "text/plain": [
       "<Figure size 1440x360 with 1 Axes>"
      ]
     },
     "metadata": {},
     "output_type": "display_data"
    }
   ],
   "source": [
    "sales_state = df.groupby(['Occupation'], as_index=False)['Amount'].sum().sort_values(by='Amount', ascending=False)\n",
    "\n",
    "sns.set(rc={'figure.figsize':(20,5)})\n",
    "sns.barplot(data = sales_state, x = 'Occupation',y= 'Amount')"
   ]
  },
  {
   "cell_type": "markdown",
   "id": "26c22532",
   "metadata": {},
   "source": [
    "*From above graphs we can see that most of the buyers are working in IT, Aviation and Healthcare sector*"
   ]
  },
  {
   "cell_type": "code",
   "execution_count": 37,
   "id": "9a964ef1",
   "metadata": {},
   "outputs": [
    {
     "data": {
      "text/plain": [
       "Index(['User_ID', 'Cust_name', 'Product_ID', 'Gender', 'Age Group', 'Age',\n",
       "       'Marital_Status', 'State', 'Zone', 'Occupation', 'Product_Category',\n",
       "       'Orders', 'Amount'],\n",
       "      dtype='object')"
      ]
     },
     "execution_count": 37,
     "metadata": {},
     "output_type": "execute_result"
    }
   ],
   "source": [
    "df.columns"
   ]
  },
  {
   "cell_type": "markdown",
   "id": "40518579",
   "metadata": {},
   "source": [
    "### Product Category"
   ]
  },
  {
   "cell_type": "code",
   "execution_count": 42,
   "id": "3e7e4d39",
   "metadata": {},
   "outputs": [
    {
     "data": {
      "image/png": "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\n",
      "text/plain": [
       "<Figure size 1440x360 with 1 Axes>"
      ]
     },
     "metadata": {},
     "output_type": "display_data"
    }
   ],
   "source": [
    "sns.set(rc={'figure.figsize':(20,5)})\n",
    "ax = sns.countplot(data = df, x = 'Product_Category')\n",
    "\n",
    "for bars in ax.containers:\n",
    "    ax.bar_label(bars)"
   ]
  },
  {
   "cell_type": "code",
   "execution_count": 43,
   "id": "99f5c6f3",
   "metadata": {},
   "outputs": [
    {
     "data": {
      "text/plain": [
       "<AxesSubplot:xlabel='Product_Category', ylabel='Amount'>"
      ]
     },
     "execution_count": 43,
     "metadata": {},
     "output_type": "execute_result"
    },
    {
     "data": {
      "image/png": "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\n",
      "text/plain": [
       "<Figure size 1440x360 with 1 Axes>"
      ]
     },
     "metadata": {},
     "output_type": "display_data"
    }
   ],
   "source": [
    "sales_state = df.groupby(['Product_Category'], as_index=False)['Amount'].sum().sort_values(by='Amount', ascending=False)\n",
    "\n",
    "sns.set(rc={'figure.figsize':(20,5)})\n",
    "sns.barplot(data = sales_state, x = 'Product_Category',y= 'Amount')"
   ]
  },
  {
   "cell_type": "markdown",
   "id": "5be54973",
   "metadata": {},
   "source": [
    "*From above graphs we can see that most of the sold products are from Food, Footwear and Electronics category*"
   ]
  },
  {
   "cell_type": "code",
   "execution_count": 46,
   "id": "f33d23c7",
   "metadata": {},
   "outputs": [
    {
     "data": {
      "text/plain": [
       "<AxesSubplot:xlabel='Product_ID', ylabel='Orders'>"
      ]
     },
     "execution_count": 46,
     "metadata": {},
     "output_type": "execute_result"
    },
    {
     "data": {
      "image/png": "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\n",
      "text/plain": [
       "<Figure size 1440x360 with 1 Axes>"
      ]
     },
     "metadata": {},
     "output_type": "display_data"
    }
   ],
   "source": [
    "sales_state = df.groupby(['Product_ID'], as_index=False)['Orders'].sum().sort_values(by='Orders', ascending=False).head(10)\n",
    "\n",
    "sns.set(rc={'figure.figsize':(20,5)})\n",
    "sns.barplot(data = sales_state, x = 'Product_ID',y= 'Orders')"
   ]
  },
  {
   "cell_type": "code",
   "execution_count": 67,
   "id": "17d2bb43",
   "metadata": {},
   "outputs": [
    {
     "data": {
      "text/plain": [
       "<AxesSubplot:xlabel='Product_ID'>"
      ]
     },
     "execution_count": 67,
     "metadata": {},
     "output_type": "execute_result"
    },
    {
     "data": {
      "image/png": "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\n",
      "text/plain": [
       "<Figure size 864x504 with 1 Axes>"
      ]
     },
     "metadata": {},
     "output_type": "display_data"
    }
   ],
   "source": [
    "# top 10 most sold products (same thing as above)\n",
    "\n",
    "fig1, ax1 = plt.subplots(figsize=(12,7))\n",
    "df.groupby('Product_ID')['Orders'].sum().nlargest(10).sort_values(ascending=False).plot(kind='bar')"
   ]
  },
  {
   "cell_type": "markdown",
   "id": "31f88f63",
   "metadata": {},
   "source": [
    "## Conclusion:\n",
    "\n",
    "### "
   ]
  },
  {
   "cell_type": "markdown",
   "id": "56e52bca",
   "metadata": {},
   "source": [
    "*Married women age group 26-35 yrs from UP,  Maharastra and Karnataka working in IT, Aviation and Healthcare are more likely to buy products from Food, Footwear and Electronics category*"
   ]
  },
 "metadata": {
  "kernelspec": {
   "display_name": "Python 3 (ipykernel)",
   "language": "python",
   "name": "python3"
  },
  "language_info": {
   "codemirror_mode": {
    "name": "ipython",
    "version": 3
   },
   "file_extension": ".py",
   "mimetype": "text/x-python",
   "name": "python",
   "nbconvert_exporter": "python",
   "pygments_lexer": "ipython3",
   "version": "3.11.2"
  }
 },
 "nbformat": 4,
 "nbformat_minor": 5
}
